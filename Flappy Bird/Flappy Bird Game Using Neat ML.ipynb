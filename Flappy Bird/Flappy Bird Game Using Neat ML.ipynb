{
 "cells": [
  {
   "cell_type": "markdown",
   "id": "1153d76d",
   "metadata": {},
   "source": [
    "## Flappy Bird Game Using Neat"
   ]
  },
  {
   "cell_type": "markdown",
   "id": "c1772383",
   "metadata": {},
   "source": [
    "### Import the dependencies"
   ]
  },
  {
   "cell_type": "code",
   "execution_count": 1,
   "id": "57bd7e61",
   "metadata": {},
   "outputs": [
    {
     "name": "stdout",
     "output_type": "stream",
     "text": [
      "pygame 2.5.1 (SDL 2.28.2, Python 3.11.3)\n",
      "Hello from the pygame community. https://www.pygame.org/contribute.html\n"
     ]
    }
   ],
   "source": [
    "import pygame \n",
    "import neat\n",
    "import os\n",
    "import time\n",
    "import random\n",
    "pygame.font.init()"
   ]
  },
  {
   "cell_type": "markdown",
   "id": "6baf5a34",
   "metadata": {},
   "source": [
    "### Setting Windows Dimensions"
   ]
  },
  {
   "cell_type": "code",
   "execution_count": 2,
   "id": "52c61cf9",
   "metadata": {},
   "outputs": [],
   "source": [
    "WIN_WIDTH = 500\n",
    "WIN_HEIGHT = 800"
   ]
  },
  {
   "cell_type": "markdown",
   "id": "8b0de055",
   "metadata": {},
   "source": [
    "### Load Images"
   ]
  },
  {
   "cell_type": "code",
   "execution_count": 3,
   "id": "8b8b7abd",
   "metadata": {},
   "outputs": [],
   "source": [
    "BIRD_IMGS = [pygame.transform.scale2x(pygame.image.load(os.path.join(\"images\", \"bird1.png\"))), pygame.transform.scale2x(pygame.image.load(os.path.join(\"images\", \"bird2.png\"))), pygame.transform.scale2x(pygame.image.load(os.path.join(\"images\", \"bird3.png\")))]"
   ]
  },
  {
   "cell_type": "code",
   "execution_count": 4,
   "id": "da83cbf4",
   "metadata": {},
   "outputs": [],
   "source": [
    "PIPE_IMG = pygame.transform.scale2x(pygame.image.load(os.path.join(\"images\", \"pipe.png\")))"
   ]
  },
  {
   "cell_type": "code",
   "execution_count": 5,
   "id": "a30bc326",
   "metadata": {},
   "outputs": [],
   "source": [
    "BASE_IMG = pygame.transform.scale2x(pygame.image.load(os.path.join(\"images\", \"base.png\")))"
   ]
  },
  {
   "cell_type": "code",
   "execution_count": 6,
   "id": "bc8df201",
   "metadata": {},
   "outputs": [],
   "source": [
    "BG_IMG = pygame.transform.scale2x(pygame.image.load(os.path.join(\"images\", \"bg.png\")))"
   ]
  },
  {
   "cell_type": "code",
   "execution_count": 7,
   "id": "603d30d6",
   "metadata": {},
   "outputs": [
    {
     "data": {
      "text/plain": [
       "<Surface(104x640x8 SW)>"
      ]
     },
     "execution_count": 7,
     "metadata": {},
     "output_type": "execute_result"
    }
   ],
   "source": [
    "PIPE_IMG"
   ]
  },
  {
   "cell_type": "code",
   "execution_count": 8,
   "id": "bd2ddf35",
   "metadata": {},
   "outputs": [],
   "source": [
    "STAT_FONT = pygame.font.SysFont(\"comicsans\", 50)"
   ]
  },
  {
   "cell_type": "markdown",
   "id": "da580cfb",
   "metadata": {},
   "source": [
    "### Creating Bird Class"
   ]
  },
  {
   "cell_type": "code",
   "execution_count": 9,
   "id": "d5a33cd5",
   "metadata": {},
   "outputs": [],
   "source": [
    "class Bird:\n",
    "    IMGS = BIRD_IMGS\n",
    "    MAX_ROTATION = 25\n",
    "    ROT_VEL = 20\n",
    "    ANIMATION_TIME = 5\n",
    "    def __init__(self, x, y):\n",
    "        self.x = x\n",
    "        self.y = y\n",
    "        self.tilt = 0\n",
    "        self.tick_count = 0\n",
    "        self.vel = 0\n",
    "        self.height = self.y\n",
    "        self.img_count = 0\n",
    "        self.img = self.IMGS[0]\n",
    "        \n",
    "    def jump(self):\n",
    "        self.vel = -10.5\n",
    "        self.tick_count = 0\n",
    "        self.height = self.y\n",
    "        \n",
    "    def move(self):\n",
    "        self.tick_count += 1\n",
    "        \n",
    "        d = self.vel*self.tick_count + 1.5*self.tick_count**2\n",
    "        \n",
    "        if d >= 16:\n",
    "            d = 16\n",
    "        \n",
    "        if d < 0:\n",
    "            d -= 2\n",
    "        \n",
    "        self.y = self.y + d\n",
    "        \n",
    "        if d < 0 or self.y < self.height + 50:\n",
    "            if self.tilt < self.MAX_ROTATION:\n",
    "                self.tilt = self.MAX_ROTATION\n",
    "                \n",
    "        else:\n",
    "            if self.tilt > -90:\n",
    "                self.tilt -= self.ROT_VEL\n",
    "                \n",
    "    def draw(self, win):\n",
    "        self.img_count += 1\n",
    "        \n",
    "        if self.img_count < self.ANIMATION_TIME:\n",
    "            self.img = self.IMGS[0]\n",
    "        elif self.img_count < self.ANIMATION_TIME*2:\n",
    "            self.img = self.IMGS[1]\n",
    "        elif self.img_count < self.ANIMATION_TIME*3:\n",
    "            self.img = self.IMGS[2]\n",
    "        elif self.img_count < self.ANIMATION_TIME*4:\n",
    "            self.img = self.IMGS[1]\n",
    "        elif self.img_count == self.ANIMATION_TIME*4+1:\n",
    "            self.img = self.IMGS[0]\n",
    "            self.img_count = 0\n",
    "            \n",
    "        if self.tilt <= -80:\n",
    "            self.img = self.IMGS[1]\n",
    "            self.img_count = self.ANIMATION_TIME*2\n",
    "            \n",
    "        rotated_image = pygame.transform.rotate(self.img, self.tilt)\n",
    "        new_rect = rotated_image.get_rect(center=self.img.get_rect(topleft= (self.x, self.y)).center)\n",
    "        win.blit(rotated_image, new_rect.topleft)\n",
    "        \n",
    "    def get_mask(self):\n",
    "        return pygame.mask.from_surface(self.img)"
   ]
  },
  {
   "cell_type": "markdown",
   "id": "ac224600",
   "metadata": {},
   "source": [
    "### Pipe Class"
   ]
  },
  {
   "cell_type": "code",
   "execution_count": 10,
   "id": "b78d52d6",
   "metadata": {},
   "outputs": [],
   "source": [
    "class Pipe:\n",
    "    GAP = 200\n",
    "    VEL = 5\n",
    "    \n",
    "    def __init__(self, x):\n",
    "        self.x = x\n",
    "        self.height = 0\n",
    "        self.top = 0\n",
    "        self.bottom = 0\n",
    "        self.PIPE_TOP = pygame.transform.flip(PIPE_IMG, False, True)\n",
    "        self.PIPE_BOTTOM = PIPE_IMG\n",
    "        self.passed = False\n",
    "        self.set_height()\n",
    "        \n",
    "    def set_height(self):\n",
    "        self.height = random.randrange(50, 450)\n",
    "        self.top = self.height - self.PIPE_TOP.get_height()\n",
    "        self.bottom = self.height + self.GAP\n",
    "        \n",
    "    def move(self):\n",
    "        self.x -= self.VEL\n",
    "        \n",
    "    def draw(self, win):\n",
    "        win.blit(self.PIPE_TOP, (self.x, self.top))\n",
    "        win.blit(self.PIPE_BOTTOM, (self.x, self.bottom))\n",
    "        \n",
    "    def collide(self, bird):\n",
    "        bird_mask = bird.get_mask()\n",
    "        top_mask = pygame.mask.from_surface(self.PIPE_TOP)\n",
    "        bottom_mask = pygame.mask.from_surface(self.PIPE_BOTTOM)\n",
    "        \n",
    "        top_offset = (self.x - bird.x, self.top - round(bird.y))\n",
    "        bottom_offset = (self.x - bird.x, self.bottom - round(bird.y))\n",
    "        \n",
    "        t_point = bird_mask.overlap(top_mask, top_offset)\n",
    "        b_point = bird_mask.overlap(bottom_mask, bottom_offset)\n",
    "        \n",
    "        if t_point or b_point:\n",
    "            return True\n",
    "        \n",
    "        return False"
   ]
  },
  {
   "cell_type": "markdown",
   "id": "81069fcf",
   "metadata": {},
   "source": [
    "### Base Class"
   ]
  },
  {
   "cell_type": "code",
   "execution_count": 11,
   "id": "d8fc688a",
   "metadata": {},
   "outputs": [],
   "source": [
    "class Base:\n",
    "    VEL = 5\n",
    "    WIDTH = BASE_IMG.get_width()\n",
    "    IMG = BASE_IMG\n",
    "    \n",
    "    def __init__(self, y):\n",
    "        self.y = y\n",
    "        self.x1 = 0\n",
    "        self.x2 = self.WIDTH\n",
    "        \n",
    "    def move(self):\n",
    "        self.x1 -= self.VEL\n",
    "        self.x2 -= self.VEL\n",
    "        \n",
    "        if self.x1 + self.WIDTH < 0:\n",
    "            self.x1 = self.x2 + self.WIDTH\n",
    "            \n",
    "        if self.x2 + self.WIDTH < 0:\n",
    "            self.x2 = self.x1 + self.WIDTH\n",
    "            \n",
    "    def draw(self, win):\n",
    "        win.blit(self.IMG, (self.x1, self.y))\n",
    "        win.blit(self.IMG, (self.x2, self.y))"
   ]
  },
  {
   "cell_type": "markdown",
   "id": "a114a6fd",
   "metadata": {},
   "source": [
    "### Game Functionalities"
   ]
  },
  {
   "cell_type": "code",
   "execution_count": 12,
   "id": "096d3601",
   "metadata": {},
   "outputs": [],
   "source": [
    "def draw_window(win, birds, pipes, base, score):\n",
    "    win.blit(BG_IMG, (0, 0))\n",
    "    \n",
    "    for pipe in pipes:\n",
    "        pipe.draw(win)\n",
    "    \n",
    "    text = STAT_FONT.render(\"Score: \" + str(score), 1, (255, 255, 255))\n",
    "    win.blit(text, (WIN_WIDTH - 10 - text.get_width(), 10))\n",
    "    \n",
    "    base.draw(win)\n",
    "    \n",
    "    for bird in birds:\n",
    "        bird.draw(win)\n",
    "    pygame.display.update()"
   ]
  },
  {
   "cell_type": "code",
   "execution_count": 13,
   "id": "6c525d37",
   "metadata": {},
   "outputs": [],
   "source": [
    "def main(genomes, config):\n",
    "    nets = []\n",
    "    ge = []\n",
    "    birds = []\n",
    "    \n",
    "    for _, g in genomes:\n",
    "        net = neat.nn.FeedForwardNetwork.create(g, config)\n",
    "        nets.append(net)\n",
    "        birds.append(Bird(230, 350))\n",
    "        g.fitness = 0\n",
    "        ge.append(g)\n",
    "        \n",
    "    \n",
    "    base = Base(730)\n",
    "    pipes = [Pipe(600)]\n",
    "    win = pygame.display.set_mode((WIN_WIDTH, WIN_HEIGHT))\n",
    "    clock = pygame.time.Clock()\n",
    "    score = 0\n",
    "    \n",
    "    run = True\n",
    "    while run:\n",
    "        clock.tick(30)\n",
    "        for event in pygame.event.get():\n",
    "            if event.type == pygame.QUIT:\n",
    "                run = False\n",
    "                pygame.quit()\n",
    "                quit()\n",
    "        \n",
    "        pipe_ind = 0\n",
    "        if len(birds) > 0:\n",
    "            if len(pipes) > 1 and birds[0].x > pipes[0].x + pipes[0].PIPE_TOP.get_width():\n",
    "                pipe_ind = 1               \n",
    "        else:\n",
    "            run = False\n",
    "            break\n",
    "                \n",
    "        for x, bird in enumerate(birds):\n",
    "            bird.move()\n",
    "            ge[x].fitness += 0.1\n",
    "            \n",
    "            output = nets[x].activate((bird.y, abs(bird.y - pipes[pipe_ind].height), abs(bird.y - pipes[pipe_ind].bottom)))\n",
    "            \n",
    "            if output[0] > 0.5:\n",
    "                bird.jump()\n",
    "            \n",
    "        add_pipe = False\n",
    "        rem = []\n",
    "        for pipe in pipes:\n",
    "            for x, bird in enumerate(birds):\n",
    "                if pipe.collide(bird):\n",
    "                    ge[x].fitness -= 1\n",
    "                    birds.pop(x)\n",
    "                    nets.pop(x)\n",
    "                    ge.pop(x)\n",
    "            \n",
    "                if not pipe.passed and pipe.x < bird.x:\n",
    "                    pipe.passed = True\n",
    "                    add_pipe = True\n",
    "                    \n",
    "            if pipe.x + pipe.PIPE_TOP.get_width() < 0:\n",
    "                rem.append(pipe)\n",
    "                \n",
    "                \n",
    "            pipe.move()\n",
    "            \n",
    "        if add_pipe:\n",
    "            for g in ge:\n",
    "                g.fitness += 5\n",
    "            score += 1\n",
    "            pipes.append(Pipe(600))\n",
    "            \n",
    "        for r in rem:\n",
    "            pipes.remove(r)\n",
    "        \n",
    "        for x, bird in enumerate(birds):\n",
    "            if bird.y + bird.img.get_height() >= 730 or bird.y < 0:\n",
    "                birds.pop(x)\n",
    "                nets.pop(x)\n",
    "                ge.pop(x)\n",
    "                \n",
    "        \n",
    "        base.move()\n",
    "        draw_window(win, birds, pipes, base, score)\n",
    "    "
   ]
  },
  {
   "cell_type": "markdown",
   "id": "ab8d71dd",
   "metadata": {},
   "source": [
    "### Creating The ML Model For Game Using NEAT"
   ]
  },
  {
   "cell_type": "code",
   "execution_count": 14,
   "id": "2a68ede1",
   "metadata": {},
   "outputs": [],
   "source": [
    "def run(config_patch):\n",
    "    config = neat.config.Config(neat.DefaultGenome, neat.DefaultReproduction, neat.DefaultSpeciesSet, neat.DefaultStagnation, config_patch)\n",
    "    \n",
    "    p = neat.Population(config)\n",
    "    \n",
    "    p.add_reporter(neat.StdOutReporter(True))\n",
    "    statics = neat.StatisticsReporter()\n",
    "    p.add_reporter(statics)\n",
    "    \n",
    "    winner = p.run(main,50)\n",
    "    "
   ]
  },
  {
   "cell_type": "code",
   "execution_count": 15,
   "id": "84cf2e16",
   "metadata": {},
   "outputs": [
    {
     "name": "stdout",
     "output_type": "stream",
     "text": [
      "\n",
      " ****** Running generation 0 ****** \n",
      "\n",
      "Population's average fitness: 3.58300 stdev: 1.81080\n",
      "Best fitness: 17.80000 - size: (1, 3) - species 1 - id 56\n",
      "Average adjusted fitness: 0.083\n",
      "Mean genetic distance 1.158, standard deviation 0.442\n",
      "Population of 100 members in 1 species:\n",
      "   ID   age  size  fitness  adj fit  stag\n",
      "  ====  ===  ====  =======  =======  ====\n",
      "     1    0   100     17.8    0.083     0\n",
      "Total extinctions: 0\n",
      "Generation time: 4.920 sec\n",
      "\n",
      " ****** Running generation 1 ****** \n",
      "\n"
     ]
    },
    {
     "ename": "error",
     "evalue": "display Surface quit",
     "output_type": "error",
     "traceback": [
      "\u001b[1;31m---------------------------------------------------------------------------\u001b[0m",
      "\u001b[1;31merror\u001b[0m                                     Traceback (most recent call last)",
      "Cell \u001b[1;32mIn[15], line 4\u001b[0m\n\u001b[0;32m      2\u001b[0m local_dir \u001b[38;5;241m=\u001b[39m os\u001b[38;5;241m.\u001b[39mgetcwd() \u001b[38;5;66;03m# Getting the address of the file\u001b[39;00m\n\u001b[0;32m      3\u001b[0m config_patch \u001b[38;5;241m=\u001b[39m os\u001b[38;5;241m.\u001b[39mpath\u001b[38;5;241m.\u001b[39mjoin(local_dir, \u001b[38;5;124m\"\u001b[39m\u001b[38;5;124mconfig-feedforward.txt\u001b[39m\u001b[38;5;124m\"\u001b[39m)\n\u001b[1;32m----> 4\u001b[0m \u001b[43mrun\u001b[49m\u001b[43m(\u001b[49m\u001b[43mconfig_patch\u001b[49m\u001b[43m)\u001b[49m\n",
      "Cell \u001b[1;32mIn[14], line 10\u001b[0m, in \u001b[0;36mrun\u001b[1;34m(config_patch)\u001b[0m\n\u001b[0;32m      7\u001b[0m statics \u001b[38;5;241m=\u001b[39m neat\u001b[38;5;241m.\u001b[39mStatisticsReporter()\n\u001b[0;32m      8\u001b[0m p\u001b[38;5;241m.\u001b[39madd_reporter(statics)\n\u001b[1;32m---> 10\u001b[0m winner \u001b[38;5;241m=\u001b[39m \u001b[43mp\u001b[49m\u001b[38;5;241;43m.\u001b[39;49m\u001b[43mrun\u001b[49m\u001b[43m(\u001b[49m\u001b[43mmain\u001b[49m\u001b[43m,\u001b[49m\u001b[38;5;241;43m50\u001b[39;49m\u001b[43m)\u001b[49m\n",
      "File \u001b[1;32m~\\AppData\\Local\\Programs\\Python\\Python311\\Lib\\site-packages\\neat\\population.py:89\u001b[0m, in \u001b[0;36mPopulation.run\u001b[1;34m(self, fitness_function, n)\u001b[0m\n\u001b[0;32m     86\u001b[0m \u001b[38;5;28mself\u001b[39m\u001b[38;5;241m.\u001b[39mreporters\u001b[38;5;241m.\u001b[39mstart_generation(\u001b[38;5;28mself\u001b[39m\u001b[38;5;241m.\u001b[39mgeneration)\n\u001b[0;32m     88\u001b[0m \u001b[38;5;66;03m# Evaluate all genomes using the user-provided function.\u001b[39;00m\n\u001b[1;32m---> 89\u001b[0m \u001b[43mfitness_function\u001b[49m\u001b[43m(\u001b[49m\u001b[38;5;28;43mlist\u001b[39;49m\u001b[43m(\u001b[49m\u001b[43miteritems\u001b[49m\u001b[43m(\u001b[49m\u001b[38;5;28;43mself\u001b[39;49m\u001b[38;5;241;43m.\u001b[39;49m\u001b[43mpopulation\u001b[49m\u001b[43m)\u001b[49m\u001b[43m)\u001b[49m\u001b[43m,\u001b[49m\u001b[43m \u001b[49m\u001b[38;5;28;43mself\u001b[39;49m\u001b[38;5;241;43m.\u001b[39;49m\u001b[43mconfig\u001b[49m\u001b[43m)\u001b[49m\n\u001b[0;32m     91\u001b[0m \u001b[38;5;66;03m# Gather and report statistics.\u001b[39;00m\n\u001b[0;32m     92\u001b[0m best \u001b[38;5;241m=\u001b[39m \u001b[38;5;28;01mNone\u001b[39;00m\n",
      "Cell \u001b[1;32mIn[13], line 83\u001b[0m, in \u001b[0;36mmain\u001b[1;34m(genomes, config)\u001b[0m\n\u001b[0;32m     79\u001b[0m         ge\u001b[38;5;241m.\u001b[39mpop(x)\n\u001b[0;32m     82\u001b[0m base\u001b[38;5;241m.\u001b[39mmove()\n\u001b[1;32m---> 83\u001b[0m \u001b[43mdraw_window\u001b[49m\u001b[43m(\u001b[49m\u001b[43mwin\u001b[49m\u001b[43m,\u001b[49m\u001b[43m \u001b[49m\u001b[43mbirds\u001b[49m\u001b[43m,\u001b[49m\u001b[43m \u001b[49m\u001b[43mpipes\u001b[49m\u001b[43m,\u001b[49m\u001b[43m \u001b[49m\u001b[43mbase\u001b[49m\u001b[43m,\u001b[49m\u001b[43m \u001b[49m\u001b[43mscore\u001b[49m\u001b[43m)\u001b[49m\n",
      "Cell \u001b[1;32mIn[12], line 2\u001b[0m, in \u001b[0;36mdraw_window\u001b[1;34m(win, birds, pipes, base, score)\u001b[0m\n\u001b[0;32m      1\u001b[0m \u001b[38;5;28;01mdef\u001b[39;00m \u001b[38;5;21mdraw_window\u001b[39m(win, birds, pipes, base, score):\n\u001b[1;32m----> 2\u001b[0m     \u001b[43mwin\u001b[49m\u001b[38;5;241;43m.\u001b[39;49m\u001b[43mblit\u001b[49m\u001b[43m(\u001b[49m\u001b[43mBG_IMG\u001b[49m\u001b[43m,\u001b[49m\u001b[43m \u001b[49m\u001b[43m(\u001b[49m\u001b[38;5;241;43m0\u001b[39;49m\u001b[43m,\u001b[49m\u001b[43m \u001b[49m\u001b[38;5;241;43m0\u001b[39;49m\u001b[43m)\u001b[49m\u001b[43m)\u001b[49m\n\u001b[0;32m      4\u001b[0m     \u001b[38;5;28;01mfor\u001b[39;00m pipe \u001b[38;5;129;01min\u001b[39;00m pipes:\n\u001b[0;32m      5\u001b[0m         pipe\u001b[38;5;241m.\u001b[39mdraw(win)\n",
      "\u001b[1;31merror\u001b[0m: display Surface quit"
     ]
    }
   ],
   "source": [
    "if __name__ == \"__main__\":\n",
    "    local_dir = os.getcwd() # Getting the address of the file\n",
    "    config_patch = os.path.join(local_dir, \"config-feedforward.txt\")\n",
    "    run(config_patch)"
   ]
  }
 ],
 "metadata": {
  "kernelspec": {
   "display_name": "Python 3 (ipykernel)",
   "language": "python",
   "name": "python3"
  },
  "language_info": {
   "codemirror_mode": {
    "name": "ipython",
    "version": 3
   },
   "file_extension": ".py",
   "mimetype": "text/x-python",
   "name": "python",
   "nbconvert_exporter": "python",
   "pygments_lexer": "ipython3",
   "version": "3.11.3"
  }
 },
 "nbformat": 4,
 "nbformat_minor": 5
}
